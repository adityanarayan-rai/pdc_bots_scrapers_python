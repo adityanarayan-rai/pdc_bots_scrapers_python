{
 "cells": [
  {
   "cell_type": "code",
   "execution_count": 1,
   "id": "b220fe5a-84d4-44a9-8a23-a9e890bcca7a",
   "metadata": {},
   "outputs": [],
   "source": [
    "import requests\n",
    "from bs4 import BeautifulSoup"
   ]
  },
  {
   "cell_type": "code",
   "execution_count": 2,
   "id": "28d95835-275d-459b-891c-83055032a115",
   "metadata": {},
   "outputs": [],
   "source": [
    "url = 'https://seenunseen.in/'"
   ]
  },
  {
   "cell_type": "code",
   "execution_count": 3,
   "id": "2efcbbef-3afd-476d-b61a-4623a70754d0",
   "metadata": {},
   "outputs": [],
   "source": [
    "response = requests.get(url)"
   ]
  },
  {
   "cell_type": "code",
   "execution_count": 4,
   "id": "15cb36db-18ef-491c-8d27-d185a714e9a6",
   "metadata": {},
   "outputs": [
    {
     "name": "stdout",
     "output_type": "stream",
     "text": [
      "Successfully fetched the webpage!\n"
     ]
    }
   ],
   "source": [
    "if response.status_code == 200:\n",
    "    print(\"Successfully fetched the webpage!\")\n",
    "else:\n",
    "    print(\"Failed to fetch the webpage. Status code:\", response.status_code)"
   ]
  },
  {
   "cell_type": "code",
   "execution_count": 5,
   "id": "3a9e391e-1372-423d-99b0-08167e589270",
   "metadata": {},
   "outputs": [],
   "source": [
    "soup = BeautifulSoup(response.text, 'html.parser')"
   ]
  },
  {
   "cell_type": "code",
   "execution_count": 6,
   "id": "189e3748-2fbd-4be0-985a-81fd6b7c9054",
   "metadata": {},
   "outputs": [],
   "source": [
    "# Extract the publication date\n",
    "pub_date = soup.find('time', class_='wp-show-posts-entry-date').text"
   ]
  },
  {
   "cell_type": "code",
   "execution_count": 7,
   "id": "2b16a251-132a-4408-b565-56413a833819",
   "metadata": {},
   "outputs": [],
   "source": [
    "# Extract the episode title\n",
    "episode_title = soup.find('h2', class_='wp-show-posts-entry-title').text\n",
    "\n",
    "# Extract the iframe source URL\n",
    "iframe_src = soup.find('iframe', class_='iframe-class')['src']\n",
    "\n",
    "# Extract the description (assuming it's the div's text immediately following the iframe)\n",
    "description_div = soup.find('div', class_='sqs-block-content')\n",
    "description = description_div.text if description_div else \"Description not found\"\n",
    "\n",
    "# Extract the link to the show notes\n",
    "show_notes_link = soup.find('div', class_='wpsp-read-more').a['href']"
   ]
  },
  {
   "cell_type": "code",
   "execution_count": 8,
   "id": "13f1d94f-308d-4c8e-a7a5-d81ea0a69c7e",
   "metadata": {},
   "outputs": [
    {
     "name": "stdout",
     "output_type": "stream",
     "text": [
      "Publication Date: 01 Apr 2024\n",
      "Episode Title: Episode 375: Karthik Muralidharan and the Bureaucrat’s Burden\n",
      "Iframe Source: https://html5-player.libsyn.com/embed/episode/id/30618153/height/90/width/640/theme/custom/autonext/no/thumbnail/yes/autoplay/no/preload/no/no_addthis/no/direction/backward/render-playlist/no/custom-color/0e7c7b/\n",
      "Description: To reform India, you must reform the Indian state. Karthik Muralidharan joins Amit Varma in episode 375 of The Seen and the Unseen to talk about his much-awaited new book that has finally released — and the chapters on it that deal with our bureaucracy.\n",
      "Show Notes Link: https://seenunseen.in/episodes/2024/4/1/episode-375-karthik-muralidharan-and-the-bureaucrats-burden/\n"
     ]
    }
   ],
   "source": [
    "print(f\"Publication Date: {pub_date}\")\n",
    "print(f\"Episode Title: {episode_title}\")\n",
    "print(f\"Iframe Source: {iframe_src}\")\n",
    "print(f\"Description: {description}\")\n",
    "print(f\"Show Notes Link: {show_notes_link}\")"
   ]
  },
  {
   "cell_type": "code",
   "execution_count": null,
   "id": "f4e07ecd-e9b2-4637-8354-7483a9159568",
   "metadata": {},
   "outputs": [],
   "source": []
  }
 ],
 "metadata": {
  "kernelspec": {
   "display_name": "Python 3 (ipykernel)",
   "language": "python",
   "name": "python3"
  },
  "language_info": {
   "codemirror_mode": {
    "name": "ipython",
    "version": 3
   },
   "file_extension": ".py",
   "mimetype": "text/x-python",
   "name": "python",
   "nbconvert_exporter": "python",
   "pygments_lexer": "ipython3",
   "version": "3.11.5"
  }
 },
 "nbformat": 4,
 "nbformat_minor": 5
}
